{
 "cells": [
  {
   "cell_type": "markdown",
   "metadata": {},
   "source": [
    "# Github: https://github.com/PKGzGMTH\n",
    "### Student ID: 6430200850\n",
    "### Student name: Pongsakorn TIPPAYASOMDECH"
   ]
  },
  {
   "cell_type": "code",
   "execution_count": 23,
   "metadata": {},
   "outputs": [
    {
     "name": "stdout",
     "output_type": "stream",
     "text": [
      "SoR = [[1, 1], [1, 1], [1, 2], [2, 1], [2, 2], [2, 2]]\n"
     ]
    }
   ],
   "source": [
    "#•Let R be the relation {(1, 2), (1, 3), (2, 3), (2, 4), (3, 1)}, and let S be the relation {(2, 1), (3, 1), (3, 2), (4, 2)}. Find S◦R\n",
    "r = [[1,2], [1,3], [2,3], [2,4], [3,1]]\n",
    "s = [[2,1], [3,1], [3,2], [4,2]]\n",
    "sor = []\n",
    "for i in r:\n",
    "    for j in s:\n",
    "        if i[1] == j[0]:\n",
    "            buff = []\n",
    "            buff.append(i[0])\n",
    "            buff.append(j[1])\n",
    "            sor.append(buff)\n",
    "print(f'SoR = {sor}')"
   ]
  }
 ],
 "metadata": {
  "interpreter": {
   "hash": "e3ec0779d7bf8933b579c4c9a6a928059a898fdc5eb44d2239c447328f64612b"
  },
  "kernelspec": {
   "display_name": "Python 3.9.8 64-bit",
   "language": "python",
   "name": "python3"
  },
  "language_info": {
   "codemirror_mode": {
    "name": "ipython",
    "version": 3
   },
   "file_extension": ".py",
   "mimetype": "text/x-python",
   "name": "python",
   "nbconvert_exporter": "python",
   "pygments_lexer": "ipython3",
   "version": "3.9.8"
  },
  "orig_nbformat": 4
 },
 "nbformat": 4,
 "nbformat_minor": 2
}
