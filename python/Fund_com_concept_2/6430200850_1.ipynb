{
 "cells": [
  {
   "cell_type": "markdown",
   "metadata": {},
   "source": [
    "# Github: https://github.com/PKGzGMTH\n",
    "### Student ID: 6430200850\n",
    "### Student name: Pongsakorn TIPPAYASOMDECH"
   ]
  },
  {
   "cell_type": "code",
   "execution_count": 66,
   "metadata": {},
   "outputs": [
    {
     "name": "stdout",
     "output_type": "stream",
     "text": [
      "----- R -----   ----- S -----\n",
      "[0, 1, 1, 0]\t[0, 0, 0, 0]\n",
      "[0, 0, 1, 1]\t[1, 0, 0, 0]\n",
      "[1, 0, 0, 0]\t[1, 1, 0, 0]\n",
      "[0, 0, 0, 0]\t[0, 1, 0, 0]\n",
      "\n",
      "----- SOR -----\n",
      "[1, 1, 0, 0]\n",
      "[1, 1, 0, 0]\n",
      "[0, 0, 0, 0]\n",
      "[0, 0, 0, 0]\n"
     ]
    }
   ],
   "source": [
    "#•Let R be the relation {(1, 2), (1, 3), (2, 3), (2, 4), (3, 1)}, and let S be the relation {(2, 1), (3, 1), (3, 2), (4, 2)}. Find S◦R\n",
    "r = [[1,2], [1,3], [2,3], [2,4], [3,1]]\n",
    "s = [[2,1], [3,1], [3,2], [4,2]]\n",
    "R = []\n",
    "S = []\n",
    "SOR = []\n",
    "\n",
    "for i in range(4):\n",
    "\tR.append([])\n",
    "\tS.append([])\n",
    "\tfor j in range(4):\n",
    "\t\tif [i+1, j+1] in r:\n",
    "\t\t\tR[i].append(1)\n",
    "\t\telif [i+1, j+1] not in r:\n",
    "\t\t\tR[i].append(0)\n",
    "\t\tif [i+1, j+1] in s:\n",
    "\t\t\tS[i].append(1)\n",
    "\t\telif [i+1, j+1] not in s:\n",
    "\t\t\tS[i].append(0)\n",
    "\n",
    "print('-'*5 + \" R \" + '-'*5 + '   ' + '-'*5 + \" S \" + '-'*5)\n",
    "for i in range(4):\n",
    "\tprint(str(R[i]) + '\\t' + str(S[i]))\n",
    "\n",
    "for i in range(4):\n",
    "\tSOR.append([])\n",
    "\tfor j in range(4):\n",
    "\t\tSOR[i].append((R[i][0] and S[0][j]) or (R[i][1] and S[1][j]) or (R[i][2] and S[2][j]))\n",
    "\n",
    "print('\\n' + '-'*5 + \" SOR \" + '-'*5)\n",
    "for i in range(4):\n",
    "\tprint(SOR[i])"
   ]
  }
 ],
 "metadata": {
  "interpreter": {
   "hash": "e3ec0779d7bf8933b579c4c9a6a928059a898fdc5eb44d2239c447328f64612b"
  },
  "kernelspec": {
   "display_name": "Python 3.9.8 64-bit",
   "language": "python",
   "name": "python3"
  },
  "language_info": {
   "codemirror_mode": {
    "name": "ipython",
    "version": 3
   },
   "file_extension": ".py",
   "mimetype": "text/x-python",
   "name": "python",
   "nbconvert_exporter": "python",
   "pygments_lexer": "ipython3",
   "version": "3.10.2"
  },
  "orig_nbformat": 4
 },
 "nbformat": 4,
 "nbformat_minor": 2
}
