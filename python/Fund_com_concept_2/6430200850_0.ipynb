{
 "cells": [
  {
   "cell_type": "markdown",
   "metadata": {},
   "source": [
    "# Github: https://github.com/PKGzGMTH\n",
    "### Student ID: 6430200850\n",
    "### Student name: Pongsakorn TIPPAYASOMDECH"
   ]
  },
  {
   "cell_type": "code",
   "execution_count": 1,
   "metadata": {},
   "outputs": [],
   "source": [
    "div1 = 7\n",
    "div2 = 11\n",
    "\n",
    "a = []\n",
    "b = []\n",
    "c = []\n",
    "\n",
    "for i in range(50, 101):\n",
    "    if (i % div1 == 0):\n",
    "        a.append(i)\n",
    "    if (i % div2 == 0):\n",
    "        b.append(i)\n",
    "    if (i % div1 == 0 and i % div2 == 0):\n",
    "        c.append(i)"
   ]
  },
  {
   "cell_type": "code",
   "execution_count": 2,
   "metadata": {},
   "outputs": [
    {
     "name": "stdout",
     "output_type": "stream",
     "text": [
      "[56, 63, 70, 77, 84, 91, 98]\n",
      "[55, 66, 77, 88, 99]\n",
      "[77]\n"
     ]
    }
   ],
   "source": [
    "print(a)\n",
    "print(b)\n",
    "print(c)"
   ]
  }
 ],
 "metadata": {
  "interpreter": {
   "hash": "e3ec0779d7bf8933b579c4c9a6a928059a898fdc5eb44d2239c447328f64612b"
  },
  "kernelspec": {
   "display_name": "Python 3.9.8 64-bit",
   "language": "python",
   "name": "python3"
  },
  "language_info": {
   "codemirror_mode": {
    "name": "ipython",
    "version": 3
   },
   "file_extension": ".py",
   "mimetype": "text/x-python",
   "name": "python",
   "nbconvert_exporter": "python",
   "pygments_lexer": "ipython3",
   "version": "3.9.8"
  },
  "orig_nbformat": 4
 },
 "nbformat": 4,
 "nbformat_minor": 2
}
